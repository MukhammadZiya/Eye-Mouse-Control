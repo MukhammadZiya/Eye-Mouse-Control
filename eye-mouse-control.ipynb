{
 "cells": [
  {
   "cell_type": "code",
   "execution_count": 4,
   "id": "43045974-a51e-4899-962f-8eae746e2931",
   "metadata": {
    "tags": []
   },
   "outputs": [
    {
     "name": "stdout",
     "output_type": "stream",
     "text": [
      "Click\n",
      "Click\n"
     ]
    }
   ],
   "source": [
    "import cv2 \n",
    "import mediapipe as mp \n",
    "import pyautogui\n",
    "\n",
    "\n",
    "cam = cv2.VideoCapture(0)\n",
    "face_mesh = mp.solutions.face_mesh.FaceMesh(refine_landmarks = True)\n",
    "screen_w, screen_h = pyautogui.size()\n",
    "\n",
    "while True : \n",
    "    _, frame = cam.read()\n",
    "    frame = cv2.flip(frame, 1)\n",
    "    rgb_frame = cv2.cvtColor(frame, cv2.COLOR_BGR2RGB)\n",
    "    output = face_mesh.process(rgb_frame)\n",
    "    landmark_points = output.multi_face_landmarks \n",
    "    frame_h, frame_w, _= frame.shape\n",
    "    if landmark_points :\n",
    "        landmarks= landmark_points[0].landmark\n",
    "        for i, landmark in enumerate (landmarks [474:478]):\n",
    "            x = int(landmark.x * frame_w)\n",
    "            y =int(landmark.y * frame_h)\n",
    "            cv2.circle (frame , (x, y ), 3,(0,255,0)) \n",
    "            if i == 1:\n",
    "                screen_x = int(landmark.x *screen_w)\n",
    "                screen_y = int(landmark.y * screen_h)\n",
    "                pyautogui.moveTo(screen_x, screen_y )\n",
    "                \n",
    "            \n",
    "            \n",
    "        left = [landmarks[145], landmarks[159]]\n",
    "        for landmark in left : \n",
    "            x = int(landmark.x * frame_w)\n",
    "            y =int(landmark.y * frame_h)\n",
    "            cv2.circle (frame , (x, y ), 3,(0,255,255))\n",
    "        if (left[0].y - left[1].y) < 0.004 : \n",
    "            print (\"Click\")\n",
    "            pyautogui.click()\n",
    "            pyautogui.sleep(1)\n",
    "            \n",
    "            \n",
    "    # print(landmark_points)\n",
    "    cv2.imshow('Eye Controlled Mouse', frame) \n",
    "    cv2.waitKey(1)\n",
    "    \n",
    "    \n",
    "    \n",
    "    \n",
    "    \n",
    "    \n",
    "    \n",
    "    \n",
    "    \n",
    "    \n",
    "    key = cv2.waitKey(1)\n",
    "    if key == ord('q'):\n",
    "        break\n",
    "        \n",
    "cam.release()\n",
    "cv2.destroyAllWindows()        "
   ]
  },
  {
   "cell_type": "code",
   "execution_count": null,
   "id": "591398c9-ca8e-4670-beb4-b7c7e159993c",
   "metadata": {},
   "outputs": [],
   "source": []
  }
 ],
 "metadata": {
  "kernelspec": {
   "display_name": "my_env",
   "language": "python",
   "name": "my_env"
  },
  "language_info": {
   "codemirror_mode": {
    "name": "ipython",
    "version": 3
   },
   "file_extension": ".py",
   "mimetype": "text/x-python",
   "name": "python",
   "nbconvert_exporter": "python",
   "pygments_lexer": "ipython3",
   "version": "3.9.18"
  }
 },
 "nbformat": 4,
 "nbformat_minor": 5
}
